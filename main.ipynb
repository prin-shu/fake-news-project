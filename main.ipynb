{
 "cells": [
  {
   "cell_type": "markdown",
   "metadata": {},
   "source": [
    "### IMPORTING LIBRARIES AND LOADING DATA"
   ]
  },
  {
   "cell_type": "code",
   "execution_count": 64,
   "metadata": {},
   "outputs": [
    {
     "name": "stderr",
     "output_type": "stream",
     "text": [
      "[nltk_data] Downloading package stopwords to\n",
      "[nltk_data]     /Users/siddhu/nltk_data...\n",
      "[nltk_data]   Package stopwords is already up-to-date!\n"
     ]
    }
   ],
   "source": [
    "#loading the required libraries\n",
    "import pandas as pd\n",
    "import numpy as np\n",
    "import matplotlib.pyplot as plt\n",
    "import seaborn as sns\n",
    "from sklearn.feature_extraction.text import CountVectorizer\n",
    "from sklearn.feature_extraction.text import TfidfTransformer\n",
    "from sklearn import feature_extraction, linear_model, model_selection, preprocessing\n",
    "from sklearn.model_selection import train_test_split\n",
    "from sklearn.pipeline import Pipeline\n",
    "from sklearn.metrics import accuracy_score\n",
    "from sklearn.utils import shuffle\n",
    "import string\n",
    "import nltk\n",
    "nltk.download('stopwords')\n",
    "from nltk import tokenize\n",
    "from nltk.corpus import stopwords\n",
    "\n",
    "# importing the ML models\n",
    "from sklearn.tree import DecisionTreeClassifier\n",
    "from sklearn.linear_model import LogisticRegression\n",
    "from sklearn.naive_bayes import MultinomialNB\n",
    "from sklearn import svm"
   ]
  },
  {
   "cell_type": "code",
   "execution_count": 50,
   "metadata": {},
   "outputs": [],
   "source": [
    "fake_data = pd.read_csv('datasets/Fake.csv')\n",
    "true_data = pd.read_csv('datasets/True.csv')\n"
   ]
  },
  {
   "cell_type": "code",
   "execution_count": 51,
   "metadata": {},
   "outputs": [
    {
     "name": "stdout",
     "output_type": "stream",
     "text": [
      "(23481, 4) (21417, 4)\n"
     ]
    }
   ],
   "source": [
    "print(fake_data.shape, true_data.shape)"
   ]
  },
  {
   "cell_type": "markdown",
   "metadata": {},
   "source": [
    "### DATA CLEANING\n"
   ]
  },
  {
   "cell_type": "code",
   "execution_count": 52,
   "metadata": {},
   "outputs": [
    {
     "name": "stdout",
     "output_type": "stream",
     "text": [
      "                                                    title   text subject  \\\n",
      "count                                               23481  23481   23481   \n",
      "unique                                              17903  17455       6   \n",
      "top     MEDIA IGNORES Time That Bill Clinton FIRED His...           News   \n",
      "freq                                                    6    626    9050   \n",
      "\n",
      "                date target  \n",
      "count          23481  23481  \n",
      "unique          1681      1  \n",
      "top     May 10, 2017   fake  \n",
      "freq              46  23481                                                       title  \\\n",
      "count                                               21417   \n",
      "unique                                              20826   \n",
      "top     Factbox: Trump fills top jobs for his administ...   \n",
      "freq                                                   14   \n",
      "\n",
      "                                                     text       subject  \\\n",
      "count                                               21417         21417   \n",
      "unique                                              21192             2   \n",
      "top     (Reuters) - Highlights for U.S. President Dona...  politicsNews   \n",
      "freq                                                    8         11272   \n",
      "\n",
      "                      date target  \n",
      "count                21417  21417  \n",
      "unique                 716      1  \n",
      "top     December 20, 2017    true  \n",
      "freq                   182  21417  \n"
     ]
    }
   ],
   "source": [
    "fake_data['target'] = 'fake'\n",
    "true_data['target'] = 'true'\n",
    "print(fake_data.describe(), true_data.describe())"
   ]
  },
  {
   "cell_type": "code",
   "execution_count": 53,
   "metadata": {},
   "outputs": [
    {
     "data": {
      "text/plain": [
       "(44898, 5)"
      ]
     },
     "execution_count": 53,
     "metadata": {},
     "output_type": "execute_result"
    }
   ],
   "source": [
    "# concatenating the dataframe\n",
    "data = pd.concat([fake_data,true_data]).reset_index(drop = True)\n",
    "data.shape"
   ]
  },
  {
   "cell_type": "code",
   "execution_count": 54,
   "metadata": {},
   "outputs": [
    {
     "data": {
      "text/html": [
       "<div>\n",
       "<style scoped>\n",
       "    .dataframe tbody tr th:only-of-type {\n",
       "        vertical-align: middle;\n",
       "    }\n",
       "\n",
       "    .dataframe tbody tr th {\n",
       "        vertical-align: top;\n",
       "    }\n",
       "\n",
       "    .dataframe thead th {\n",
       "        text-align: right;\n",
       "    }\n",
       "</style>\n",
       "<table border=\"1\" class=\"dataframe\">\n",
       "  <thead>\n",
       "    <tr style=\"text-align: right;\">\n",
       "      <th></th>\n",
       "      <th>title</th>\n",
       "      <th>text</th>\n",
       "      <th>subject</th>\n",
       "      <th>date</th>\n",
       "      <th>target</th>\n",
       "    </tr>\n",
       "  </thead>\n",
       "  <tbody>\n",
       "    <tr>\n",
       "      <th>0</th>\n",
       "      <td>Once Again, Trump Proves How INCREDIBLY Ignor...</td>\n",
       "      <td>President Donald Trump does not know anything ...</td>\n",
       "      <td>News</td>\n",
       "      <td>April 23, 2017</td>\n",
       "      <td>fake</td>\n",
       "    </tr>\n",
       "    <tr>\n",
       "      <th>1</th>\n",
       "      <td>Wilbur Ross seen imposing Mexico sugar deal ov...</td>\n",
       "      <td>WASHINGTON (Reuters) - U.S. Commerce Secretary...</td>\n",
       "      <td>politicsNews</td>\n",
       "      <td>June 9, 2017</td>\n",
       "      <td>true</td>\n",
       "    </tr>\n",
       "    <tr>\n",
       "      <th>2</th>\n",
       "      <td>White House says more work needed on Republica...</td>\n",
       "      <td>WASHINGTON (Reuters) - The White House is conc...</td>\n",
       "      <td>politicsNews</td>\n",
       "      <td>April 13, 2016</td>\n",
       "      <td>true</td>\n",
       "    </tr>\n",
       "    <tr>\n",
       "      <th>3</th>\n",
       "      <td>WHY DID HARRY REID LIE ABOUT THE “ACCIDENT” He...</td>\n",
       "      <td>Dirty Harry must ve jarred something in his he...</td>\n",
       "      <td>Government News</td>\n",
       "      <td>Apr 9, 2015</td>\n",
       "      <td>fake</td>\n",
       "    </tr>\n",
       "    <tr>\n",
       "      <th>4</th>\n",
       "      <td>TUCKER ON COMEY’S FIRING: “Dictatorship by the...</td>\n",
       "      <td>TUCKER CARLSON Spoke out tonight on the firing...</td>\n",
       "      <td>politics</td>\n",
       "      <td>May 10, 2017</td>\n",
       "      <td>fake</td>\n",
       "    </tr>\n",
       "  </tbody>\n",
       "</table>\n",
       "</div>"
      ],
      "text/plain": [
       "                                               title  \\\n",
       "0   Once Again, Trump Proves How INCREDIBLY Ignor...   \n",
       "1  Wilbur Ross seen imposing Mexico sugar deal ov...   \n",
       "2  White House says more work needed on Republica...   \n",
       "3  WHY DID HARRY REID LIE ABOUT THE “ACCIDENT” He...   \n",
       "4  TUCKER ON COMEY’S FIRING: “Dictatorship by the...   \n",
       "\n",
       "                                                text          subject  \\\n",
       "0  President Donald Trump does not know anything ...             News   \n",
       "1  WASHINGTON (Reuters) - U.S. Commerce Secretary...     politicsNews   \n",
       "2  WASHINGTON (Reuters) - The White House is conc...     politicsNews   \n",
       "3  Dirty Harry must ve jarred something in his he...  Government News   \n",
       "4  TUCKER CARLSON Spoke out tonight on the firing...         politics   \n",
       "\n",
       "              date target  \n",
       "0   April 23, 2017   fake  \n",
       "1    June 9, 2017    true  \n",
       "2  April 13, 2016    true  \n",
       "3      Apr 9, 2015   fake  \n",
       "4     May 10, 2017   fake  "
      ]
     },
     "execution_count": 54,
     "metadata": {},
     "output_type": "execute_result"
    }
   ],
   "source": [
    "#shuffling\n",
    "data = shuffle(data).reset_index(drop = True)\n",
    "data.head()\n"
   ]
  },
  {
   "cell_type": "code",
   "execution_count": 55,
   "metadata": {},
   "outputs": [
    {
     "data": {
      "text/html": [
       "<div>\n",
       "<style scoped>\n",
       "    .dataframe tbody tr th:only-of-type {\n",
       "        vertical-align: middle;\n",
       "    }\n",
       "\n",
       "    .dataframe tbody tr th {\n",
       "        vertical-align: top;\n",
       "    }\n",
       "\n",
       "    .dataframe thead th {\n",
       "        text-align: right;\n",
       "    }\n",
       "</style>\n",
       "<table border=\"1\" class=\"dataframe\">\n",
       "  <thead>\n",
       "    <tr style=\"text-align: right;\">\n",
       "      <th></th>\n",
       "      <th>text</th>\n",
       "      <th>subject</th>\n",
       "      <th>target</th>\n",
       "    </tr>\n",
       "  </thead>\n",
       "  <tbody>\n",
       "    <tr>\n",
       "      <th>0</th>\n",
       "      <td>President Donald Trump does not know anything ...</td>\n",
       "      <td>News</td>\n",
       "      <td>fake</td>\n",
       "    </tr>\n",
       "    <tr>\n",
       "      <th>1</th>\n",
       "      <td>WASHINGTON (Reuters) - U.S. Commerce Secretary...</td>\n",
       "      <td>politicsNews</td>\n",
       "      <td>true</td>\n",
       "    </tr>\n",
       "    <tr>\n",
       "      <th>2</th>\n",
       "      <td>WASHINGTON (Reuters) - The White House is conc...</td>\n",
       "      <td>politicsNews</td>\n",
       "      <td>true</td>\n",
       "    </tr>\n",
       "    <tr>\n",
       "      <th>3</th>\n",
       "      <td>Dirty Harry must ve jarred something in his he...</td>\n",
       "      <td>Government News</td>\n",
       "      <td>fake</td>\n",
       "    </tr>\n",
       "    <tr>\n",
       "      <th>4</th>\n",
       "      <td>TUCKER CARLSON Spoke out tonight on the firing...</td>\n",
       "      <td>politics</td>\n",
       "      <td>fake</td>\n",
       "    </tr>\n",
       "  </tbody>\n",
       "</table>\n",
       "</div>"
      ],
      "text/plain": [
       "                                                text          subject target\n",
       "0  President Donald Trump does not know anything ...             News   fake\n",
       "1  WASHINGTON (Reuters) - U.S. Commerce Secretary...     politicsNews   true\n",
       "2  WASHINGTON (Reuters) - The White House is conc...     politicsNews   true\n",
       "3  Dirty Harry must ve jarred something in his he...  Government News   fake\n",
       "4  TUCKER CARLSON Spoke out tonight on the firing...         politics   fake"
      ]
     },
     "execution_count": 55,
     "metadata": {},
     "output_type": "execute_result"
    }
   ],
   "source": [
    "data.drop(['title','date'], axis=1, inplace=True)\n",
    "data.head()\n"
   ]
  },
  {
   "cell_type": "code",
   "execution_count": 56,
   "metadata": {},
   "outputs": [],
   "source": [
    "# convert all the words to lowercase\n",
    "data.text = data.text.apply(lambda x : x.lower())"
   ]
  },
  {
   "cell_type": "code",
   "execution_count": 57,
   "metadata": {},
   "outputs": [
    {
     "data": {
      "text/html": [
       "<div>\n",
       "<style scoped>\n",
       "    .dataframe tbody tr th:only-of-type {\n",
       "        vertical-align: middle;\n",
       "    }\n",
       "\n",
       "    .dataframe tbody tr th {\n",
       "        vertical-align: top;\n",
       "    }\n",
       "\n",
       "    .dataframe thead th {\n",
       "        text-align: right;\n",
       "    }\n",
       "</style>\n",
       "<table border=\"1\" class=\"dataframe\">\n",
       "  <thead>\n",
       "    <tr style=\"text-align: right;\">\n",
       "      <th></th>\n",
       "      <th>text</th>\n",
       "      <th>subject</th>\n",
       "      <th>target</th>\n",
       "    </tr>\n",
       "  </thead>\n",
       "  <tbody>\n",
       "    <tr>\n",
       "      <th>0</th>\n",
       "      <td>president donald trump does not know anything ...</td>\n",
       "      <td>News</td>\n",
       "      <td>fake</td>\n",
       "    </tr>\n",
       "    <tr>\n",
       "      <th>1</th>\n",
       "      <td>washington reuters  us commerce secretary wilb...</td>\n",
       "      <td>politicsNews</td>\n",
       "      <td>true</td>\n",
       "    </tr>\n",
       "    <tr>\n",
       "      <th>2</th>\n",
       "      <td>washington reuters  the white house is concern...</td>\n",
       "      <td>politicsNews</td>\n",
       "      <td>true</td>\n",
       "    </tr>\n",
       "    <tr>\n",
       "      <th>3</th>\n",
       "      <td>dirty harry must ve jarred something in his he...</td>\n",
       "      <td>Government News</td>\n",
       "      <td>fake</td>\n",
       "    </tr>\n",
       "    <tr>\n",
       "      <th>4</th>\n",
       "      <td>tucker carlson spoke out tonight on the firing...</td>\n",
       "      <td>politics</td>\n",
       "      <td>fake</td>\n",
       "    </tr>\n",
       "  </tbody>\n",
       "</table>\n",
       "</div>"
      ],
      "text/plain": [
       "                                                text          subject target\n",
       "0  president donald trump does not know anything ...             News   fake\n",
       "1  washington reuters  us commerce secretary wilb...     politicsNews   true\n",
       "2  washington reuters  the white house is concern...     politicsNews   true\n",
       "3  dirty harry must ve jarred something in his he...  Government News   fake\n",
       "4  tucker carlson spoke out tonight on the firing...         politics   fake"
      ]
     },
     "execution_count": 57,
     "metadata": {},
     "output_type": "execute_result"
    }
   ],
   "source": [
    "#removing punctuations\n",
    "def removee(text):\n",
    "    temp = [char for char in text if char not in string.punctuation]\n",
    "    a = ''.join(temp)\n",
    "    return a\n",
    "data['text'] = data['text'].apply(removee)\n",
    "data.head()\n"
   ]
  },
  {
   "cell_type": "code",
   "execution_count": 58,
   "metadata": {},
   "outputs": [
    {
     "name": "stdout",
     "output_type": "stream",
     "text": [
      "['i', 'me', 'my', 'myself', 'we', 'our', 'ours', 'ourselves', 'you', \"you're\", \"you've\", \"you'll\", \"you'd\", 'your', 'yours', 'yourself', 'yourselves', 'he', 'him', 'his', 'himself', 'she', \"she's\", 'her', 'hers', 'herself', 'it', \"it's\", 'its', 'itself', 'they', 'them', 'their', 'theirs', 'themselves', 'what', 'which', 'who', 'whom', 'this', 'that', \"that'll\", 'these', 'those', 'am', 'is', 'are', 'was', 'were', 'be', 'been', 'being', 'have', 'has', 'had', 'having', 'do', 'does', 'did', 'doing', 'a', 'an', 'the', 'and', 'but', 'if', 'or', 'because', 'as', 'until', 'while', 'of', 'at', 'by', 'for', 'with', 'about', 'against', 'between', 'into', 'through', 'during', 'before', 'after', 'above', 'below', 'to', 'from', 'up', 'down', 'in', 'out', 'on', 'off', 'over', 'under', 'again', 'further', 'then', 'once', 'here', 'there', 'when', 'where', 'why', 'how', 'all', 'any', 'both', 'each', 'few', 'more', 'most', 'other', 'some', 'such', 'no', 'nor', 'not', 'only', 'own', 'same', 'so', 'than', 'too', 'very', 's', 't', 'can', 'will', 'just', 'don', \"don't\", 'should', \"should've\", 'now', 'd', 'll', 'm', 'o', 're', 've', 'y', 'ain', 'aren', \"aren't\", 'couldn', \"couldn't\", 'didn', \"didn't\", 'doesn', \"doesn't\", 'hadn', \"hadn't\", 'hasn', \"hasn't\", 'haven', \"haven't\", 'isn', \"isn't\", 'ma', 'mightn', \"mightn't\", 'mustn', \"mustn't\", 'needn', \"needn't\", 'shan', \"shan't\", 'shouldn', \"shouldn't\", 'wasn', \"wasn't\", 'weren', \"weren't\", 'won', \"won't\", 'wouldn', \"wouldn't\"]\n",
      "0        president donald trump know anything foreign p...\n",
      "1        washington reuters us commerce secretary wilbu...\n",
      "2        washington reuters white house concerned propo...\n",
      "3        dirty harry must jarred something head makes u...\n",
      "4        tucker carlson spoke tonight firing comey list...\n",
      "                               ...                        \n",
      "44893    november 15 story corrected clarify paragraph ...\n",
      "44894    cernobbio italy reuters referendum italy membe...\n",
      "44895    sixty gop national security buffs taken pledge...\n",
      "44896    even militant supporters crooked hillary reluc...\n",
      "44897    budapest reuters rap knuckles eu top court end...\n",
      "Name: text, Length: 44898, dtype: object\n"
     ]
    }
   ],
   "source": [
    "#removing stopwords\n",
    "stop = stopwords.words('english')\n",
    "# print(stop)\n",
    "def removal(text):\n",
    "    words = text.split()\n",
    "    temp = [word for word in words if word not in stop]\n",
    "    return ' '.join(temp)\n",
    "data['text'] = data['text'].apply(removal)\n",
    "\n",
    "print(data.text)"
   ]
  },
  {
   "cell_type": "code",
   "execution_count": 63,
   "metadata": {},
   "outputs": [],
   "source": [
    "# PREPARING THE DATA (splitting into training and testing data)\n",
    "x_train, x_test, y_train, y_test = train_test_split(data.text,data.target,test_size=0.2,random_state=42)\n"
   ]
  },
  {
   "cell_type": "markdown",
   "metadata": {},
   "source": [
    "### EXPLORING DATA"
   ]
  },
  {
   "cell_type": "code",
   "execution_count": 59,
   "metadata": {},
   "outputs": [
    {
     "name": "stdout",
     "output_type": "stream",
     "text": [
      "subject\n",
      "Government News     1570\n",
      "Middle-east          778\n",
      "News                9050\n",
      "US_News              783\n",
      "left-news           4459\n",
      "politics            6841\n",
      "politicsNews       11272\n",
      "worldnews          10145\n",
      "Name: text, dtype: int64\n"
     ]
    },
    {
     "data": {
      "image/png": "[encoded data removed]",
      "text/plain": [
       "<Figure size 640x480 with 1 Axes>"
      ]
     },
     "metadata": {},
     "output_type": "display_data"
    }
   ],
   "source": [
    "print(data.groupby(['subject'])['text'].count())\n",
    "data.groupby(['subject'])['text'].count().plot(kind = 'bar')\n",
    "plt.show()"
   ]
  },
  {
   "cell_type": "code",
   "execution_count": 60,
   "metadata": {},
   "outputs": [],
   "source": [
    "#most frequent words in each type(true news and fake news)\n",
    "token = tokenize.WhitespaceTokenizer()\n",
    "def counter(text, column,count):\n",
    "    all_words = ' '.join([text for text in text[column]])\n",
    "    token_phrase = token.tokenize(all_words)\n",
    "    freq = nltk.FreqDist(token_phrase)\n",
    "    df_freq = pd.DataFrame({'Word' : list(freq.keys()),\n",
    "                            \"Frequency\" : list(freq.values())})\n",
    "    df_freq = df_freq.nlargest(columns='Frequency', n = count)\n",
    "    plt.figure(figsize=(12,8))\n",
    "    ax = sns.barplot(data = df_freq, x = \"Word\", y = 'Frequency', color = 'teal')\n",
    "    ax.set(ylabel = 'Count')\n",
    "    plt.xticks(rotation = 'vertical')\n",
    "    plt.show()"
   ]
  },
  {
   "cell_type": "code",
   "execution_count": 61,
   "metadata": {},
   "outputs": [
    {
     "data": {
      "image/png": "[encoded data removed]",
      "text/plain": [
       "<Figure size 1200x800 with 1 Axes>"
      ]
     },
     "metadata": {},
     "output_type": "display_data"
    }
   ],
   "source": [
    "#most frequent in fake news\n",
    "counter(data[data['target'] == 'fake'], 'text',20)"
   ]
  },
  {
   "cell_type": "code",
   "execution_count": 62,
   "metadata": {},
   "outputs": [
    {
     "data": {
      "image/png": "[encoded data removed]",
      "text/plain": [
       "<Figure size 1200x800 with 1 Axes>"
      ]
     },
     "metadata": {},
     "output_type": "display_data"
    }
   ],
   "source": [
    "#most frequent words in real news\n",
    "counter(data[data.target == 'true'],'text',20)"
   ]
  },
  {
   "cell_type": "markdown",
   "metadata": {},
   "source": [
    "### TRAINING & TESTING THE MODEL"
   ]
  },
  {
   "cell_type": "markdown",
   "metadata": {},
   "source": [
    "#### NAIVE BAYES"
   ]
  },
  {
   "cell_type": "code",
   "execution_count": 85,
   "metadata": {},
   "outputs": [
    {
     "name": "stdout",
     "output_type": "stream",
     "text": [
      "0.9536748329621381\n",
      "accuracy_score = 95.0 %\n"
     ]
    }
   ],
   "source": [
    "dct = dict()\n",
    "clf = MultinomialNB()\n",
    "pipe = Pipeline([('vect', CountVectorizer()),\n",
    "                 ('tfid', TfidfTransformer()),\n",
    "                 ('model', clf)])\n",
    "model = pipe.fit(x_train,y_train)\n",
    "pred = model.predict(x_test)\n",
    "print(accuracy_score(y_test,pred))\n",
    "\n",
    "dct['Naive Bayes'] = round(accuracy_score(y_test, pred)*100,2)\n"
   ]
  },
  {
   "cell_type": "markdown",
   "metadata": {},
   "source": [
    "#### LOGISTIC REGRESSION"
   ]
  },
  {
   "cell_type": "code",
   "execution_count": 86,
   "metadata": {},
   "outputs": [
    {
     "name": "stdout",
     "output_type": "stream",
     "text": [
      "0.9536748329621381\n",
      "accuracy_score = 0.95 %\n"
     ]
    }
   ],
   "source": [
    "clf = LogisticRegression()\n",
    "pipe = Pipeline([\n",
    "    ('vect', CountVectorizer()),\n",
    "    ('tfidf', TfidfTransformer()),\n",
    "    ('model', clf)\n",
    "])\n",
    "pipe.fit(x_train,y_train)\n",
    "pred = model.predict(x_test)\n",
    "print(accuracy_score(y_test,pred))\n",
    "dct['Logistic Regression'] = round(accuracy_score(y_test, pred)*100,2)\n"
   ]
  },
  {
   "cell_type": "markdown",
   "metadata": {},
   "source": [
    "#### DECISION TREE"
   ]
  },
  {
   "cell_type": "code",
   "execution_count": 87,
   "metadata": {},
   "outputs": [
    {
     "name": "stdout",
     "output_type": "stream",
     "text": [
      "0.995879732739421\n",
      "accuracy_score = 1.0 %\n"
     ]
    }
   ],
   "source": [
    "pipe = Pipeline([('vect', CountVectorizer()),\n",
    "                 ('tfidf', TfidfTransformer()),\n",
    "                 ('model', DecisionTreeClassifier(criterion= 'entropy',\n",
    "                                           max_depth = 20, \n",
    "                                           splitter='best', \n",
    "                                           random_state=42))])\n",
    "model = pipe.fit(x_train,y_train)\n",
    "pred = model.predict(x_test)\n",
    "print(accuracy_score(y_test,pred))\n",
    "dct['Decision Tree'] = round(accuracy_score(y_test, pred)*100,2)\n"
   ]
  },
  {
   "cell_type": "markdown",
   "metadata": {},
   "source": [
    "#### SVM"
   ]
  },
  {
   "cell_type": "code",
   "execution_count": 89,
   "metadata": {},
   "outputs": [
    {
     "name": "stdout",
     "output_type": "stream",
     "text": [
      "0.995879732739421\n"
     ]
    }
   ],
   "source": [
    "clf = svm.SVC(kernel='linear') # Linear Kernel\n",
    "\n",
    "pipe = Pipeline([('vect', CountVectorizer()),\n",
    "                 ('tfidf', TfidfTransformer()),\n",
    "                 ('model', clf)])\n",
    "\n",
    "model = pipe.fit(x_train, y_train)\n",
    "prediction = model.predict(x_test)\n",
    "print(accuracy_score(y_test,pred))\n",
    "\n",
    "dct['SVM'] = round(accuracy_score(y_test, prediction)*100,2)"
   ]
  },
  {
   "cell_type": "markdown",
   "metadata": {},
   "source": [
    "### COMPARING MODELS"
   ]
  },
  {
   "cell_type": "code",
   "execution_count": 90,
   "metadata": {},
   "outputs": [
    {
     "data": {
      "text/plain": [
       "([<matplotlib.axis.YTick at 0x339157b10>,\n",
       "  <matplotlib.axis.YTick at 0x337b5df10>,\n",
       "  <matplotlib.axis.YTick at 0x339468ad0>,\n",
       "  <matplotlib.axis.YTick at 0x3395ad2d0>,\n",
       "  <matplotlib.axis.YTick at 0x334f7b090>,\n",
       "  <matplotlib.axis.YTick at 0x338b7fe50>,\n",
       "  <matplotlib.axis.YTick at 0x338b7c610>,\n",
       "  <matplotlib.axis.YTick at 0x338b7e690>,\n",
       "  <matplotlib.axis.YTick at 0x3393ee190>,\n",
       "  <matplotlib.axis.YTick at 0x338f50890>],\n",
       " [Text(0, 91, '91'),\n",
       "  Text(0, 92, '92'),\n",
       "  Text(0, 93, '93'),\n",
       "  Text(0, 94, '94'),\n",
       "  Text(0, 95, '95'),\n",
       "  Text(0, 96, '96'),\n",
       "  Text(0, 97, '97'),\n",
       "  Text(0, 98, '98'),\n",
       "  Text(0, 99, '99'),\n",
       "  Text(0, 100, '100')])"
      ]
     },
     "execution_count": 90,
     "metadata": {},
     "output_type": "execute_result"
    },
    {
     "data": {
      "image/png": "[encoded data removed]",
      "text/plain": [
       "<Figure size 800x700 with 1 Axes>"
      ]
     },
     "metadata": {},
     "output_type": "display_data"
    }
   ],
   "source": [
    "plt.figure(figsize=(8,7))\n",
    "plt.bar(list(dct.keys()),list(dct.values()))\n",
    "plt.ylim(90,100)\n",
    "plt.yticks((91, 92, 93, 94, 95, 96, 97, 98, 99, 100))"
   ]
  },
  {
   "cell_type": "code",
   "execution_count": null,
   "metadata": {},
   "outputs": [],
   "source": []
  }
 ],
 "metadata": {
  "kernelspec": {
   "display_name": "Python 3",
   "language": "python",
   "name": "python3"
  },
  "language_info": {
   "codemirror_mode": {
    "name": "ipython",
    "version": 3
   },
   "file_extension": ".py",
   "mimetype": "text/x-python",
   "name": "python",
   "nbconvert_exporter": "python",
   "pygments_lexer": "ipython3",
   "version": "3.11.5"
  }
 },
 "nbformat": 4,
 "nbformat_minor": 2
}
